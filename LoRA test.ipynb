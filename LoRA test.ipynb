{
 "cells": [
  {
   "cell_type": "code",
   "execution_count": null,
   "id": "63e076a6-ebb7-4e2b-98e6-a76720bb14d0",
   "metadata": {},
   "outputs": [],
   "source": [
    "from transformers import AutoTokenizer, AutoModelForCausalLM, pipeline\n",
    "from peft import PeftModel\n",
    "import torch"
   ]
  },
  {
   "cell_type": "code",
   "execution_count": null,
   "id": "64a73c20-e9d2-4e71-9a68-45cfac2f8b5b",
   "metadata": {},
   "outputs": [],
   "source": [
    "BASE_MODEL = \"MLP-KTLim/llama-3-Korean-Bllossom-8B\"\n",
    "ADAPTER_PATH = \"./lora_adapters/empathy\"  # 훈련된 adapter 경로\n",
    "\n",
    "# 모델 및 토크나이저 불러오기\n",
    "tokenizer = AutoTokenizer.from_pretrained(BASE_MODEL)\n",
    "base_model = AutoModelForCausalLM.from_pretrained(\n",
    "    BASE_MODEL,\n",
    "    device_map=\"auto\",\n",
    "    torch_dtype=torch.float16\n",
    ")\n",
    "\n",
    "# LoRA adapter 적용\n",
    "model = PeftModel.from_pretrained(base_model, ADAPTER_PATH)\n",
    "model.eval()"
   ]
  },
  {
   "cell_type": "code",
   "execution_count": null,
   "id": "186778a6-ade3-4b4f-b048-62d4446649c0",
   "metadata": {},
   "outputs": [],
   "source": [
    "def run_empathy_inference(user_input):\n",
    "    prompt = (\n",
    "        \"Instruct: 아래 내용을 감정적으로 공감하며 응답하세요.\\n\"\n",
    "        f\"Input: {user_input}\\n\"\n",
    "        \"Output:\"\n",
    "    )\n",
    "    inputs = tokenizer(prompt, return_tensors=\"pt\").to(model.device)\n",
    "\n",
    "    with torch.no_grad():\n",
    "        outputs = model.generate(\n",
    "            **inputs,\n",
    "            max_new_tokens=150,\n",
    "            temperature=0.7,\n",
    "            top_p=0.9,\n",
    "            do_sample=True,\n",
    "            pad_token_id=tokenizer.eos_token_id\n",
    "        )\n",
    "\n",
    "    result = tokenizer.decode(outputs[0], skip_special_tokens=True)\n",
    "    return result\n",
    "\n",
    "# 예시 테스트\n",
    "test_input = \"요즘 너무 지치고 외롭습니다. 아무에게도 말할 수 없어요.\"\n",
    "print(run_empathy_inference(test_input))"
   ]
  }
 ],
 "metadata": {
  "kernelspec": {
   "display_name": "Python 3 (ipykernel)",
   "language": "python",
   "name": "python3"
  },
  "language_info": {
   "codemirror_mode": {
    "name": "ipython",
    "version": 3
   },
   "file_extension": ".py",
   "mimetype": "text/x-python",
   "name": "python",
   "nbconvert_exporter": "python",
   "pygments_lexer": "ipython3",
   "version": "3.12.4"
  }
 },
 "nbformat": 4,
 "nbformat_minor": 5
}
